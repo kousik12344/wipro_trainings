{
 "cells": [
  {
   "cell_type": "code",
   "execution_count": 1,
   "id": "38b3841b-eeda-483f-802d-30f99ffc32d1",
   "metadata": {},
   "outputs": [
    {
     "name": "stdin",
     "output_type": "stream",
     "text": [
      "Enter the numerator:  4\n",
      "Enter the denominator:  0\n"
     ]
    },
    {
     "name": "stdout",
     "output_type": "stream",
     "text": [
      "Denominator cant be zero\n"
     ]
    }
   ],
   "source": [
    "# Exception handling\n",
    "num=int(input(\"Enter the numerator: \"))\n",
    "deno=int(input(\"Enter the denominator: \"))\n",
    "try:\n",
    "    quo=num/deno\n",
    "    print(\"Quotient: \",quo)\n",
    "except ZeroDivisionError:\n",
    "    print(\"Denominator cant be zero\")\n",
    "              "
   ]
  },
  {
   "cell_type": "code",
   "execution_count": 19,
   "id": "422d82af-348d-4944-92d1-3e29985cefc7",
   "metadata": {},
   "outputs": [
    {
     "name": "stdin",
     "output_type": "stream",
     "text": [
      "Enter number :  7\n"
     ]
    },
    {
     "name": "stdout",
     "output_type": "stream",
     "text": [
      "28\n",
      "Bye\n"
     ]
    }
   ],
   "source": [
    "try:\n",
    "    num=int(input(\"Enter number : \"))\n",
    "    print(num*4)\n",
    "except keyboardInterrupt:\n",
    "   print(\"Number should be entered\")\n",
    "except ValueError:\n",
    "    print(\"please check before you enter the data type\")\n",
    "print(\"Bye\")    \n"
   ]
  },
  {
   "cell_type": "code",
   "execution_count": 21,
   "id": "c646c038-5c36-4984-bae2-cc4eeedd3d76",
   "metadata": {},
   "outputs": [
    {
     "name": "stdout",
     "output_type": "stream",
     "text": [
      "11\n",
      "Exception Occured\n"
     ]
    }
   ],
   "source": [
    "#raise [exception [, args[,traceback]]]\n",
    "try:\n",
    "    num=11\n",
    "    print(num)\n",
    "    raise ValueError\n",
    "except:\n",
    "    print(\"Exception Occured\")\n",
    "\n",
    "    #Traceback(most recent calls)\n",
    "    "
   ]
  },
  {
   "cell_type": "code",
   "execution_count": 25,
   "id": "dc1db644-36e4-477b-ba65-754ae750861b",
   "metadata": {},
   "outputs": [
    {
     "name": "stdout",
     "output_type": "stream",
     "text": [
      "Raising Exception\n",
      "Exception caught....\n",
      "performing clean-up in finally\n"
     ]
    }
   ],
   "source": [
    "try:\n",
    "    print(\"Raising Exception\")\n",
    "    raise ValueError\n",
    "except:\n",
    "    print(\"Exception caught....\")\n",
    "finally:\n",
    "    print(\"performing clean-up in finally\")   "
   ]
  },
  {
   "cell_type": "code",
   "execution_count": 27,
   "id": "1768a4e1-1f1b-48c3-b70c-b3eb43977dec",
   "metadata": {},
   "outputs": [
    {
     "name": "stdin",
     "output_type": "stream",
     "text": [
      "Enter temperature in c:  53\n"
     ]
    },
    {
     "ename": "AssertionError",
     "evalue": "Its Cold",
     "output_type": "error",
     "traceback": [
      "\u001b[1;31m---------------------------------------------------------------------------\u001b[0m",
      "\u001b[1;31mAssertionError\u001b[0m                            Traceback (most recent call last)",
      "Cell \u001b[1;32mIn[27], line 3\u001b[0m\n\u001b[0;32m      1\u001b[0m c\u001b[38;5;241m=\u001b[39m\u001b[38;5;28mint\u001b[39m(\u001b[38;5;28minput\u001b[39m(\u001b[38;5;124m\"\u001b[39m\u001b[38;5;124mEnter temperature in c:\u001b[39m\u001b[38;5;124m\"\u001b[39m))\n\u001b[0;32m      2\u001b[0m f\u001b[38;5;241m=\u001b[39m(c\u001b[38;5;241m*\u001b[39m\u001b[38;5;241m9\u001b[39m\u001b[38;5;241m/\u001b[39m\u001b[38;5;241m5\u001b[39m)\u001b[38;5;241m+\u001b[39m\u001b[38;5;241m32\u001b[39m\n\u001b[1;32m----> 3\u001b[0m \u001b[38;5;28;01massert\u001b[39;00m(f\u001b[38;5;241m<\u001b[39m\u001b[38;5;241m=\u001b[39m\u001b[38;5;241m32\u001b[39m), \u001b[38;5;124m\"\u001b[39m\u001b[38;5;124mIts Cold\u001b[39m\u001b[38;5;124m\"\u001b[39m\n\u001b[0;32m      4\u001b[0m \u001b[38;5;28mprint\u001b[39m(\u001b[38;5;124m\"\u001b[39m\u001b[38;5;124mFahrenheit :\u001b[39m\u001b[38;5;124m\"\u001b[39m,f)\n",
      "\u001b[1;31mAssertionError\u001b[0m: Its Cold"
     ]
    }
   ],
   "source": [
    "c=int(input(\"Enter temperature in c:\"))\n",
    "f=(c*9/5)+32\n",
    "assert(f<=32), \"Its Cold\"\n",
    "print(\"Fahrenheit :\",f)"
   ]
  },
  {
   "cell_type": "code",
   "execution_count": 29,
   "id": "13f5229f-97ad-46f8-a689-749c91d40fd2",
   "metadata": {},
   "outputs": [
    {
     "name": "stdout",
     "output_type": "stream",
     "text": [
      "1 2 3 4 5 6 7 8 9 10 11 12 13 14 15 16 17 18 19 20 "
     ]
    }
   ],
   "source": [
    "'''write a program which infinitely prints natural numbers.\n",
    "Raise a stopIteration Exception after displaying first 20 numbers to exit the program'''\n",
    "def display(n):\n",
    "    while True:\n",
    "        try:\n",
    "            n+=1\n",
    "            if n==21:\n",
    "                raise StopIteration\n",
    "        except StopIteration:\n",
    "            break\n",
    "        else:\n",
    "            print(n,end=' ')\n",
    "i=0;\n",
    "display(i)"
   ]
  },
  {
   "cell_type": "code",
   "execution_count": 33,
   "id": "20e29942-b787-4e85-84cb-ff57792dfa2e",
   "metadata": {},
   "outputs": [
    {
     "name": "stdout",
     "output_type": "stream",
     "text": [
      "0.9339\n"
     ]
    }
   ],
   "source": [
    "import random\n",
    "class RandomError(Exception):\n",
    "    pass\n",
    "try:\n",
    "    num=random.random()\n",
    "    if num<0.1:\n",
    "        raise RandomError\n",
    "except RandomError as e:\n",
    "    print(\"RandomError generated\")\n",
    "else:\n",
    "    print(\"%.4f\"%num)\n",
    "        "
   ]
  },
  {
   "cell_type": "code",
   "execution_count": 48,
   "id": "50b4377d-617b-40c4-870e-0c8bb18aa21a",
   "metadata": {},
   "outputs": [
    {
     "name": "stdin",
     "output_type": "stream",
     "text": [
      "Enter a year number:  1\n"
     ]
    },
    {
     "name": "stdout",
     "output_type": "stream",
     "text": [
      "                                     1\n",
      "\n",
      "      January                     February                     March\n",
      "Mo Tu We Th Fr Sa Su        Mo Tu We Th Fr Sa Su        Mo Tu We Th Fr Sa Su\n",
      " 1  2  3  4  5  6  7                  1  2  3  4                  1  2  3  4\n",
      " 8  9 10 11 12 13 14         5  6  7  8  9 10 11         5  6  7  8  9 10 11\n",
      "15 16 17 18 19 20 21        12 13 14 15 16 17 18        12 13 14 15 16 17 18\n",
      "22 23 24 25 26 27 28        19 20 21 22 23 24 25        19 20 21 22 23 24 25\n",
      "29 30 31                    26 27 28                    26 27 28 29 30 31\n",
      "\n",
      "       April                        May                         June\n",
      "Mo Tu We Th Fr Sa Su        Mo Tu We Th Fr Sa Su        Mo Tu We Th Fr Sa Su\n",
      "                   1            1  2  3  4  5  6                     1  2  3\n",
      " 2  3  4  5  6  7  8         7  8  9 10 11 12 13         4  5  6  7  8  9 10\n",
      " 9 10 11 12 13 14 15        14 15 16 17 18 19 20        11 12 13 14 15 16 17\n",
      "16 17 18 19 20 21 22        21 22 23 24 25 26 27        18 19 20 21 22 23 24\n",
      "23 24 25 26 27 28 29        28 29 30 31                 25 26 27 28 29 30\n",
      "30\n",
      "\n",
      "        July                       August                    September\n",
      "Mo Tu We Th Fr Sa Su        Mo Tu We Th Fr Sa Su        Mo Tu We Th Fr Sa Su\n",
      "                   1               1  2  3  4  5                        1  2\n",
      " 2  3  4  5  6  7  8         6  7  8  9 10 11 12         3  4  5  6  7  8  9\n",
      " 9 10 11 12 13 14 15        13 14 15 16 17 18 19        10 11 12 13 14 15 16\n",
      "16 17 18 19 20 21 22        20 21 22 23 24 25 26        17 18 19 20 21 22 23\n",
      "23 24 25 26 27 28 29        27 28 29 30 31              24 25 26 27 28 29 30\n",
      "30 31\n",
      "\n",
      "      October                     November                    December\n",
      "Mo Tu We Th Fr Sa Su        Mo Tu We Th Fr Sa Su        Mo Tu We Th Fr Sa Su\n",
      " 1  2  3  4  5  6  7                  1  2  3  4                        1  2\n",
      " 8  9 10 11 12 13 14         5  6  7  8  9 10 11         3  4  5  6  7  8  9\n",
      "15 16 17 18 19 20 21        12 13 14 15 16 17 18        10 11 12 13 14 15 16\n",
      "22 23 24 25 26 27 28        19 20 21 22 23 24 25        17 18 19 20 21 22 23\n",
      "29 30 31                    26 27 28 29 30              24 25 26 27 28 29 30\n",
      "                                                        31\n",
      "\n"
     ]
    }
   ],
   "source": [
    "from calendar import *\n",
    "year = int(input(\"Enter a year number: \"))\n",
    "print(calendar(year,2,1,8,3))"
   ]
  },
  {
   "cell_type": "code",
   "execution_count": 58,
   "id": "dbba0841-772c-4cb8-9196-7eeaf0c7785f",
   "metadata": {},
   "outputs": [
    {
     "name": "stdin",
     "output_type": "stream",
     "text": [
      "Enter a year number:  2025\n",
      "Enter a month number:  12\n"
     ]
    },
    {
     "name": "stdout",
     "output_type": "stream",
     "text": [
      "   December 2025\n",
      "Mo Tu We Th Fr Sa Su\n",
      " 1  2  3  4  5  6  7\n",
      " 8  9 10 11 12 13 14\n",
      "15 16 17 18 19 20 21\n",
      "22 23 24 25 26 27 28\n",
      "29 30 31\n",
      "\n"
     ]
    }
   ],
   "source": [
    "from calendar import *\n",
    "Year=int(input(\"Enter a year number: \"))\n",
    "Month=int(input(\"Enter a month number: \"))\n",
    "str=month(Year,Month)\n",
    "print(str)\n",
    "\n",
    "\n"
   ]
  },
  {
   "cell_type": "code",
   "execution_count": 60,
   "id": "f7ac8d67-8f44-4a98-b6b3-55c80a6e7ae6",
   "metadata": {},
   "outputs": [
    {
     "name": "stdin",
     "output_type": "stream",
     "text": [
      "Enter a year Number : 2005\n"
     ]
    },
    {
     "name": "stdout",
     "output_type": "stream",
     "text": [
      "2005 is not a leap year\n"
     ]
    }
   ],
   "source": [
    "from calendar import *\n",
    "year = int(input(\"Enter a year Number :\"))\n",
    "if isleap(year):\n",
    "    print(year, \"is leap year\")\n",
    "else:\n",
    "    print(year,\"is not a leap year\")  "
   ]
  },
  {
   "cell_type": "code",
   "execution_count": 64,
   "id": "c9f91a59-d7df-46a7-899e-e3ba7d58f9b7",
   "metadata": {},
   "outputs": [
    {
     "name": "stdout",
     "output_type": "stream",
     "text": [
      "2025-07-04\n",
      "2025-07-05\n",
      "2025-07-06\n",
      "2025-07-07\n",
      "2025-07-08\n",
      "2025-07-09\n",
      "2025-07-10\n",
      "2025-07-11\n",
      "2025-07-12\n",
      "2025-07-13\n"
     ]
    }
   ],
   "source": [
    "''' program to print the next 10 day dates continuously '''\n",
    "from datetime import *\n",
    "d=date.today()\n",
    "print(d)\n",
    "#d=date(1966,6,29)\n",
    "for x in range(1,10):\n",
    "    nextdate=d+timedelta(days=x)\n",
    "    print(nextdate)"
   ]
  },
  {
   "cell_type": "code",
   "execution_count": 68,
   "id": "c314cfbc-f0e4-4232-8768-94bd2636368e",
   "metadata": {},
   "outputs": [
    {
     "name": "stdout",
     "output_type": "stream",
     "text": [
      "1751610823.2317004\n"
     ]
    }
   ],
   "source": [
    "import time\n",
    "epoch = time.time()\n",
    "print(epoch)"
   ]
  },
  {
   "cell_type": "code",
   "execution_count": null,
   "id": "fdfdc3d7-406e-4796-ba26-ec1b57ead37d",
   "metadata": {},
   "outputs": [],
   "source": [
    "import sys\n",
    "if len(sys.argv)<2:\n",
    "    print(\"Usage: python hi.py <name>\")\n",
    "else:\n",
    "    name=sys.argv[1]\n",
    "    print(f\"Student ,{name}!\")"
   ]
  }
 ],
 "metadata": {
  "kernelspec": {
   "display_name": "Python 3 (ipykernel)",
   "language": "python",
   "name": "python3"
  },
  "language_info": {
   "codemirror_mode": {
    "name": "ipython",
    "version": 3
   },
   "file_extension": ".py",
   "mimetype": "text/x-python",
   "name": "python",
   "nbconvert_exporter": "python",
   "pygments_lexer": "ipython3",
   "version": "3.12.7"
  }
 },
 "nbformat": 4,
 "nbformat_minor": 5
}
